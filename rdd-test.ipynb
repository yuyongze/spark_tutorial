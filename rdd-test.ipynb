{
 "cells": [
  {
   "cell_type": "code",
   "execution_count": 1,
   "metadata": {},
   "outputs": [],
   "source": [
    "sc = SparkContext.getOrCreate()"
   ]
  },
  {
   "cell_type": "code",
   "execution_count": 17,
   "metadata": {},
   "outputs": [],
   "source": [
    "import numpy as np"
   ]
  },
  {
   "cell_type": "code",
   "execution_count": 18,
   "metadata": {},
   "outputs": [
    {
     "data": {
      "text/plain": [
       "array([0.67671768, 0.16851793, 0.31884686, 0.8521572 , 0.28217236])"
      ]
     },
     "execution_count": 18,
     "metadata": {},
     "output_type": "execute_result"
    }
   ],
   "source": [
    "np.random.rand(5)"
   ]
  },
  {
   "cell_type": "code",
   "execution_count": 19,
   "metadata": {},
   "outputs": [],
   "source": [
    "rdd= sc.parallelize(np.random.rand(100))"
   ]
  },
  {
   "cell_type": "code",
   "execution_count": 20,
   "metadata": {},
   "outputs": [
    {
     "data": {
      "text/plain": [
       "100"
      ]
     },
     "execution_count": 20,
     "metadata": {},
     "output_type": "execute_result"
    }
   ],
   "source": [
    "rdd.count()"
   ]
  },
  {
   "cell_type": "code",
   "execution_count": 21,
   "metadata": {},
   "outputs": [
    {
     "data": {
      "text/plain": [
       "52.29584384914213"
      ]
     },
     "execution_count": 21,
     "metadata": {},
     "output_type": "execute_result"
    }
   ],
   "source": [
    "rdd.sum()"
   ]
  },
  {
   "cell_type": "code",
   "execution_count": 33,
   "metadata": {},
   "outputs": [
    {
     "data": {
      "text/plain": [
       "0.5229584384914213"
      ]
     },
     "execution_count": 33,
     "metadata": {},
     "output_type": "execute_result"
    }
   ],
   "source": [
    "mean=rdd.mean()\n",
    "mean"
   ]
  },
  {
   "cell_type": "code",
   "execution_count": 45,
   "metadata": {},
   "outputs": [
    {
     "data": {
      "text/plain": [
       "0.08301351009197347"
      ]
     },
     "execution_count": 45,
     "metadata": {},
     "output_type": "execute_result"
    }
   ],
   "source": [
    "rdd.map(lambda x: pow(x-mean,2)).sum()/rdd.count()"
   ]
  },
  {
   "cell_type": "code",
   "execution_count": 47,
   "metadata": {},
   "outputs": [],
   "source": [
    "# Skewness and kurtosis\n"
   ]
  },
  {
   "cell_type": "code",
   "execution_count": 48,
   "metadata": {},
   "outputs": [],
   "source": [
    "rddX = sc.parallelize(range(100))\n",
    "rddY = sc.parallelize(np.random.rand(100))"
   ]
  },
  {
   "cell_type": "code",
   "execution_count": 49,
   "metadata": {},
   "outputs": [
    {
     "data": {
      "text/plain": [
       "[(0, 0.18269109415526774),\n",
       " (1, 0.401812160257904),\n",
       " (2, 0.48756067831278205),\n",
       " (3, 0.6970245988072981),\n",
       " (4, 0.42000521178465144),\n",
       " (5, 0.3646699646703081),\n",
       " (6, 0.7500372793959003),\n",
       " (7, 0.6172456630456197),\n",
       " (8, 0.7450265427848725),\n",
       " (9, 0.673499200313455)]"
      ]
     },
     "execution_count": 49,
     "metadata": {},
     "output_type": "execute_result"
    }
   ],
   "source": [
    "rddXY = rddX.zip(rddY)\n",
    "rddXY.take(10)"
   ]
  },
  {
   "cell_type": "code",
   "execution_count": 52,
   "metadata": {},
   "outputs": [
    {
     "data": {
      "text/plain": [
       "[(0.18269109415526774, 0),\n",
       " (0.401812160257904, 1),\n",
       " (0.48756067831278205, 2),\n",
       " (0.6970245988072981, 3),\n",
       " (0.42000521178465144, 4),\n",
       " (0.3646699646703081, 5),\n",
       " (0.7500372793959003, 6),\n",
       " (0.6172456630456197, 7),\n",
       " (0.7450265427848725, 8),\n",
       " (0.673499200313455, 9)]"
      ]
     },
     "execution_count": 52,
     "metadata": {},
     "output_type": "execute_result"
    }
   ],
   "source": [
    "rddXY.map(lambda x : (x[1],x[0])).take(10)"
   ]
  },
  {
   "cell_type": "code",
   "execution_count": 53,
   "metadata": {},
   "outputs": [],
   "source": [
    "%matplotlib inline"
   ]
  },
  {
   "cell_type": "code",
   "execution_count": 54,
   "metadata": {},
   "outputs": [],
   "source": [
    "import matplotlib.pyplot as plt"
   ]
  },
  {
   "cell_type": "code",
   "execution_count": 64,
   "metadata": {
    "scrolled": true
   },
   "outputs": [
    {
     "data": {
      "text/plain": [
       "{'whiskers': [<matplotlib.lines.Line2D at 0x2af5505a4a8>,\n",
       "  <matplotlib.lines.Line2D at 0x2af5505a940>],\n",
       " 'caps': [<matplotlib.lines.Line2D at 0x2af5505ad68>,\n",
       "  <matplotlib.lines.Line2D at 0x2af550661d0>],\n",
       " 'boxes': [<matplotlib.lines.Line2D at 0x2af5505a358>],\n",
       " 'medians': [<matplotlib.lines.Line2D at 0x2af550665f8>],\n",
       " 'fliers': [<matplotlib.lines.Line2D at 0x2af55066a20>],\n",
       " 'means': []}"
      ]
     },
     "execution_count": 64,
     "metadata": {},
     "output_type": "execute_result"
    },
    {
     "data": {
      "image/png": "[encoded data removed]",
      "text/plain": [
       "<Figure size 432x288 with 1 Axes>"
      ]
     },
     "metadata": {},
     "output_type": "display_data"
    }
   ],
   "source": [
    "plt.boxplot(rddY.collect())"
   ]
  },
  {
   "cell_type": "code",
   "execution_count": 65,
   "metadata": {},
   "outputs": [
    {
     "data": {
      "text/plain": [
       "[0.18269109415526774,\n",
       " 0.401812160257904,\n",
       " 0.48756067831278205,\n",
       " 0.6970245988072981,\n",
       " 0.42000521178465144,\n",
       " 0.3646699646703081,\n",
       " 0.7500372793959003,\n",
       " 0.6172456630456197,\n",
       " 0.7450265427848725,\n",
       " 0.673499200313455]"
      ]
     },
     "execution_count": 65,
     "metadata": {},
     "output_type": "execute_result"
    }
   ],
   "source": [
    "rddY.take(10)"
   ]
  },
  {
   "cell_type": "code",
   "execution_count": 66,
   "metadata": {},
   "outputs": [],
   "source": [
    "import pandas as pd "
   ]
  },
  {
   "cell_type": "code",
   "execution_count": 110,
   "metadata": {},
   "outputs": [],
   "source": [
    "data=pd.DataFrame(np.random.rand(1000000,10),columns=list('qwertasdfg'))"
   ]
  },
  {
   "cell_type": "code",
   "execution_count": 111,
   "metadata": {},
   "outputs": [
    {
     "name": "stderr",
     "output_type": "stream",
     "text": [
      "C:\\Users\\yuyon\\spark\\spark-2.4.3-bin-hadoop2.7\\python\\pyspark\\sql\\session.py:714: UserWarning: createDataFrame attempted Arrow optimization because 'spark.sql.execution.arrow.enabled' is set to true; however, failed by the reason below:\n",
      "  PyArrow >= 0.8.0 must be installed; however, it was not found.\n",
      "Attempting non-optimization as 'spark.sql.execution.arrow.fallback.enabled' is set to true.\n",
      "  warnings.warn(msg)\n"
     ]
    },
    {
     "data": {
      "text/plain": [
       "[Row(q=0.32714709338376613, w=0.8590540692554869, e=0.514009437276346, r=0.7987758283342021, t=0.043442422841515116, a=0.017468279596527747, s=0.914070224830257, d=0.7020093337766202, f=0.26923314863575365, g=0.2929883872938286),\n",
       " Row(q=0.17671902594285827, w=0.15099489034391156, e=0.7208118259597877, r=0.2918295744272158, t=0.25692332917850946, a=0.05887124145291456, s=0.33826920725278253, d=0.7953138831691476, f=0.10566327008958731, g=0.7665613591014282),\n",
       " Row(q=0.6956363310351964, w=0.1723738975247714, e=0.6952221505377028, r=0.6665477895521164, t=0.3412564974062713, a=0.8564087228832532, s=0.5696926545848164, d=0.8120047049092392, f=0.26646838472175916, g=0.1757739240640811),\n",
       " Row(q=0.019017564192622682, w=0.5429341329592853, e=0.96061880426034, r=0.9481880844504572, t=0.7732588053508471, a=0.26936422608723876, s=0.12554806445078825, d=0.29114913704191503, f=0.8254572152049763, g=0.30129076095586027),\n",
       " Row(q=0.4024173819838419, w=0.7793270708322609, e=0.42980506201461366, r=0.8680126166722736, t=0.7714712889462654, a=0.524804840227749, s=0.7374792278496354, d=0.776659897710284, f=0.34533043384282613, g=0.2529320625551309),\n",
       " Row(q=0.07838632458374029, w=0.18286669333537287, e=0.4122924080998591, r=0.23152157160113918, t=0.8433217223571433, a=0.680032563638498, s=0.5856382068676493, d=0.019847361652359896, f=0.6411859525598598, g=0.9110861944466278),\n",
       " Row(q=0.26903623909473384, w=0.33879676237535583, e=0.5593749549279067, r=0.7834743019763566, t=0.3503221853498185, a=0.38835295541225845, s=0.7783591034973646, d=0.9383382010786692, f=0.44051581054563815, g=0.6007994869699183),\n",
       " Row(q=0.6936606010962405, w=0.7189313934032907, e=0.07824451920718611, r=0.9987616116632836, t=0.3578347346547438, a=0.0057413084644770684, s=0.5178317153458821, d=0.20746751654429774, f=0.6776608981073587, g=0.17186829167690465),\n",
       " Row(q=0.023531844943033287, w=0.7035884509057314, e=0.7006265521289923, r=0.4929288606102311, t=0.31453381446616147, a=0.4800193989174858, s=0.0836403219376245, d=0.4473497263171655, f=0.8686962864215773, g=0.8980702697513073),\n",
       " Row(q=0.393028802192107, w=0.5281251295241061, e=0.33599494632390825, r=0.10452705623958813, t=0.4859550275460359, a=0.14640650105511566, s=0.3677363501672415, d=0.9016847933422879, f=0.6267175399183919, g=0.9264322174120471)]"
      ]
     },
     "execution_count": 111,
     "metadata": {},
     "output_type": "execute_result"
    }
   ],
   "source": [
    "spark.conf.set(\"spark.sql.execution.arrow.enabled\", \"true\")\n",
    "x=spark.createDataFrame(data)\n",
    "x.take(10)"
   ]
  },
  {
   "cell_type": "code",
   "execution_count": null,
   "metadata": {},
   "outputs": [],
   "source": []
  },
  {
   "cell_type": "code",
   "execution_count": 115,
   "metadata": {},
   "outputs": [],
   "source": [
    "from pyspark.ml.feature import PCA\n",
    "from pyspark.ml.linalg import Vector\n",
    "from pyspark.ml.feature import VectorAssembler"
   ]
  },
  {
   "cell_type": "code",
   "execution_count": 116,
   "metadata": {},
   "outputs": [],
   "source": [
    "assembler= VectorAssembler(inputCols=x.columns,outputCol=\"features\")"
   ]
  },
  {
   "cell_type": "code",
   "execution_count": 117,
   "metadata": {},
   "outputs": [
    {
     "data": {
      "text/plain": [
       "[DenseVector([0.3271, 0.8591, 0.514, 0.7988, 0.0434, 0.0175, 0.9141, 0.702, 0.2692, 0.293]),\n",
       " DenseVector([0.1767, 0.151, 0.7208, 0.2918, 0.2569, 0.0589, 0.3383, 0.7953, 0.1057, 0.7666]),\n",
       " DenseVector([0.6956, 0.1724, 0.6952, 0.6665, 0.3413, 0.8564, 0.5697, 0.812, 0.2665, 0.1758]),\n",
       " DenseVector([0.019, 0.5429, 0.9606, 0.9482, 0.7733, 0.2694, 0.1255, 0.2911, 0.8255, 0.3013]),\n",
       " DenseVector([0.4024, 0.7793, 0.4298, 0.868, 0.7715, 0.5248, 0.7375, 0.7767, 0.3453, 0.2529]),\n",
       " DenseVector([0.0784, 0.1829, 0.4123, 0.2315, 0.8433, 0.68, 0.5856, 0.0198, 0.6412, 0.9111]),\n",
       " DenseVector([0.269, 0.3388, 0.5594, 0.7835, 0.3503, 0.3884, 0.7784, 0.9383, 0.4405, 0.6008]),\n",
       " DenseVector([0.6937, 0.7189, 0.0782, 0.9988, 0.3578, 0.0057, 0.5178, 0.2075, 0.6777, 0.1719]),\n",
       " DenseVector([0.0235, 0.7036, 0.7006, 0.4929, 0.3145, 0.48, 0.0836, 0.4473, 0.8687, 0.8981]),\n",
       " DenseVector([0.393, 0.5281, 0.336, 0.1045, 0.486, 0.1464, 0.3677, 0.9017, 0.6267, 0.9264])]"
      ]
     },
     "execution_count": 117,
     "metadata": {},
     "output_type": "execute_result"
    }
   ],
   "source": [
    "features = assembler.transform(x)\n",
    "features.take(10)\n",
    "features.rdd.map(lambda r: r.features).take(10)"
   ]
  },
  {
   "cell_type": "code",
   "execution_count": 118,
   "metadata": {},
   "outputs": [],
   "source": [
    "pca =  PCA(k=3, inputCol=\"features\",outputCol=\"pcaFeatures\")\n",
    "model = pca.fit(features)"
   ]
  },
  {
   "cell_type": "code",
   "execution_count": 119,
   "metadata": {},
   "outputs": [
    {
     "name": "stdout",
     "output_type": "stream",
     "text": [
      "+--------------------------------------------------------------+\n",
      "|pcaFeatures                                                   |\n",
      "+--------------------------------------------------------------+\n",
      "|[-0.7577753369281025,-0.05633654597617303,0.23622104866585103]|\n",
      "|[-0.2211482600427668,0.007980706117541286,0.11523728653503781]|\n",
      "|[-0.4565610772132461,-0.32033793582744036,0.39258727423766]   |\n",
      "|[-1.1651927921433545,0.019759463197543736,-0.2930950317855216]|\n",
      "|[-0.978116146680087,0.01480962038120652,0.4566950912525717]   |\n",
      "|[-0.7158029958402774,-0.2552892783325478,0.5284107655174065]  |\n",
      "|[-0.4848916030433389,-0.07796845669695632,0.2537239306105906] |\n",
      "|[-0.8175553215182253,0.34938318929501083,0.15052645189361696] |\n",
      "|[-0.6035234212816538,-0.19972777266154798,0.21963539678475602]|\n",
      "|[-0.22149102132080906,-0.04004799641478307,0.3453682516691934]|\n",
      "|[-0.5938644821194086,0.26576920648780444,0.13193594525203467] |\n",
      "|[-0.7802484518038967,0.298003572521622,0.42751439505388344]   |\n",
      "|[-0.6540436381929517,-0.10348487216236635,0.45027946354495507]|\n",
      "|[-0.27381327628085544,-0.2572764332471474,0.7025896089366291] |\n",
      "|[-0.9576932340060371,-0.48558240717447915,0.9177187677780214] |\n",
      "|[-1.0319988526879897,-0.43324125354907017,0.2993266548006851] |\n",
      "|[-0.1401491697393444,-0.4404878567050746,0.41847072463180424] |\n",
      "|[-0.46868199337897504,-0.16796060817979214,0.6564270181424439]|\n",
      "|[-0.7366406786376125,-0.11065006163090862,0.6283171537850684] |\n",
      "|[-0.7309975000226472,0.07502813714035503,0.19774397607014785] |\n",
      "+--------------------------------------------------------------+\n",
      "only showing top 20 rows\n",
      "\n"
     ]
    }
   ],
   "source": [
    "results_pca = model.transform(features).select(\"pcaFeatures\")\n",
    "results_pca.show(truncate=False)"
   ]
  },
  {
   "cell_type": "code",
   "execution_count": 123,
   "metadata": {},
   "outputs": [],
   "source": [
    "x=results_pca.rdd.map(lambda x: x.pcaFeatures).map(lambda a:a[0]).collect()\n",
    "y=results_pca.rdd.map(lambda x: x.pcaFeatures).map(lambda a:a[1]).collect()\n",
    "z=results_pca.rdd.map(lambda x: x.pcaFeatures).map(lambda a:a[2]).collect()"
   ]
  },
  {
   "cell_type": "code",
   "execution_count": null,
   "metadata": {},
   "outputs": [],
   "source": [
    "x.shape"
   ]
  },
  {
   "cell_type": "code",
   "execution_count": 125,
   "metadata": {},
   "outputs": [],
   "source": [
    "from mpl_toolkits.mplot3d import Axes3D"
   ]
  },
  {
   "cell_type": "code",
   "execution_count": 126,
   "metadata": {},
   "outputs": [
    {
     "data": {
      "text/plain": [
       "<mpl_toolkits.mplot3d.art3d.Path3DCollection at 0x2af1ca634a8>"
      ]
     },
     "execution_count": 126,
     "metadata": {},
     "output_type": "execute_result"
    },
    {
     "data": {
      "image/png": "[encoded data removed]",
      "text/plain": [
       "<Figure size 432x288 with 1 Axes>"
      ]
     },
     "metadata": {},
     "output_type": "display_data"
    }
   ],
   "source": [
    "fig=plt.figure()\n",
    "ax = fig.add_subplot(111,projection='3d')\n",
    "ax.scatter(x,y,z)\n",
    "plt.show()"
   ]
  },
  {
   "cell_type": "code",
   "execution_count": null,
   "metadata": {},
   "outputs": [],
   "source": []
  }
 ],
 "metadata": {
  "kernelspec": {
   "display_name": "Python 3",
   "language": "python",
   "name": "python3"
  },
  "language_info": {
   "codemirror_mode": {
    "name": "ipython",
    "version": 3
   },
   "file_extension": ".py",
   "mimetype": "text/x-python",
   "name": "python",
   "nbconvert_exporter": "python",
   "pygments_lexer": "ipython3",
   "version": "3.6.5"
  },
  "toc": {
   "base_numbering": 1,
   "nav_menu": {},
   "number_sections": true,
   "sideBar": true,
   "skip_h1_title": false,
   "title_cell": "Table of Contents",
   "title_sidebar": "Contents",
   "toc_cell": false,
   "toc_position": {},
   "toc_section_display": true,
   "toc_window_display": false
  }
 },
 "nbformat": 4,
 "nbformat_minor": 2
}
